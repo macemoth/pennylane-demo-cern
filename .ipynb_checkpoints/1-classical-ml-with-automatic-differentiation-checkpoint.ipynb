{
 "cells": [
  {
   "cell_type": "code",
   "execution_count": 1,
   "metadata": {
    "colab": {
     "base_uri": "https://localhost:8080/"
    },
    "id": "BO15OdxKIqzO",
    "outputId": "a34eb98d-a41d-4f54-a8f2-a529a9cf0226"
   },
   "outputs": [],
   "source": [
    "%%capture \n",
    "\n",
    "# Comment this out if you don't want to install pennylane from this notebook\n",
    "!pip install pennylane\n",
    "\n",
    "# Comment this out if you don't want to install matplotlib from this notebook\n",
    "!pip install matplotlib"
   ]
  },
  {
   "cell_type": "markdown",
   "metadata": {
    "id": "a1wTPd1bIqzY"
   },
   "source": [
    "# Training a machine learning model with automatic differentiation"
   ]
  },
  {
   "cell_type": "markdown",
   "metadata": {
    "id": "OEpTCnDfIqzZ"
   },
   "source": [
    "In this tutorial we will: \n",
    "\n",
    "* implement a toy version of a typical machine learning setup,\n",
    "* understand how automatic differentiation allows us to compute gradients of the machine learning model, and\n",
    "* use automatic differentiation to train the model.\n",
    "\n",
    "First some imports..."
   ]
  },
  {
   "cell_type": "code",
   "execution_count": 2,
   "metadata": {
    "id": "pgyvgjxaIqzX"
   },
   "outputs": [],
   "source": [
    "import pennylane as qml\n",
    "from pennylane import numpy as np # This will import a special, \"differentiable\" version of numpy.\n",
    "\n",
    "import matplotlib.pyplot as plt\n",
    "%matplotlib inline\n",
    "\n",
    "np.random.seed(42)"
   ]
  },
  {
   "cell_type": "code",
   "execution_count": 3,
   "metadata": {},
   "outputs": [
    {
     "data": {
      "text/plain": [
       "tensor([ 0.1, -0.4], requires_grad=True)"
      ]
     },
     "execution_count": 3,
     "metadata": {},
     "output_type": "execute_result"
    }
   ],
   "source": [
    "np.array([0.1, -0.4])"
   ]
  },
  {
   "cell_type": "code",
   "execution_count": 4,
   "metadata": {},
   "outputs": [
    {
     "data": {
      "text/plain": [
       "array([1, 2])"
      ]
     },
     "execution_count": 4,
     "metadata": {},
     "output_type": "execute_result"
    }
   ],
   "source": [
    "import numpy as anp\n",
    "anp.array([1, 2])"
   ]
  },
  {
   "cell_type": "code",
   "execution_count": 11,
   "metadata": {},
   "outputs": [
    {
     "data": {
      "text/plain": [
       "[<matplotlib.lines.Line2D at 0x7f9da38bd9d0>]"
      ]
     },
     "execution_count": 11,
     "metadata": {},
     "output_type": "execute_result"
    },
    {
     "data": {
      "image/png": "[encoded data removed]",
      "text/plain": [
       "<Figure size 432x288 with 1 Axes>"
      ]
     },
     "metadata": {
      "needs_background": "light"
     },
     "output_type": "display_data"
    }
   ],
   "source": [
    "x_axis = np.linspace(0, 6, 20)\n",
    "y = np.sin(x_axis)\n",
    "\n",
    "gradient_fn = qml.grad(np.sin, argnum=0)\n",
    "\n",
    "g = [gradient_fn(x) for x in x_axis]\n",
    "\n",
    "plt.plot(x_axis, y)\n",
    "plt.plot(x_axis, g)"
   ]
  },
  {
   "cell_type": "markdown",
   "metadata": {
    "id": "qDBgcel5IqzZ"
   },
   "source": [
    "## 1. The three basic ingredients"
   ]
  },
  {
   "cell_type": "markdown",
   "metadata": {
    "id": "3kDt_140Iqza"
   },
   "source": [
    "A machine learning problem usually consists of *data*, a *model (family)* and a *cost function*: \n",
    "\n",
    "<br />\n",
    "<img src=\"figures/data-model-cost.png\" width=\"500\">\n",
    "<br />\n",
    "\n",
    "*Training* selects the best model from the family by minimising the cost on a training set of data samples. If we design the optimisation problem well, the trained model will also have a low cost on new sets of data samples that have not been used in training. This means that the model *generalises* well. \n",
    "\n",
    "We will now create examples for each ingredient."
   ]
  },
  {
   "cell_type": "markdown",
   "metadata": {
    "id": "4Hd3Pt8iIqzb"
   },
   "source": [
    "### Data\n",
    "\n",
    "Let us create a two-dimensional toy dataset."
   ]
  },
  {
   "cell_type": "code",
   "execution_count": 12,
   "metadata": {
    "colab": {
     "base_uri": "https://localhost:8080/",
     "height": 265
    },
    "id": "ISZgnXGQIqzb",
    "outputId": "6212a1e0-6585-4c22-e2b6-b972052b5657"
   },
   "outputs": [
    {
     "data": {
      "image/png": "[encoded data removed]",
      "text/plain": [
       "<Figure size 432x288 with 1 Axes>"
      ]
     },
     "metadata": {
      "needs_background": "light"
     },
     "output_type": "display_data"
    }
   ],
   "source": [
    "n_samples = 100\n",
    "X0 = np.array([[np.random.normal(loc=-1, scale=1), \n",
    "                np.random.normal(loc=1, scale=1)] for i in range(n_samples//2)]) \n",
    "X1 = np.array([[np.random.normal(loc=1, scale=1), \n",
    "                np.random.normal(loc=-1, scale=1)] for i in range(n_samples//2)]) \n",
    "X = np.concatenate([X0, X1], axis=0)\n",
    "Y = np.concatenate([-np.ones(50), np.ones(50)], axis=0)\n",
    "data = list(zip(X, Y))\n",
    "\n",
    "\n",
    "plt.scatter(X0[:,0], X0[:,1])\n",
    "plt.scatter(X1[:,0], X1[:,1])\n",
    "plt.show()"
   ]
  },
  {
   "cell_type": "markdown",
   "metadata": {
    "id": "I6j7011GIqzd"
   },
   "source": [
    "### Model family\n",
    "\n",
    "Next, we construct a linear model."
   ]
  },
  {
   "cell_type": "code",
   "execution_count": 15,
   "metadata": {
    "id": "QFtKP4kLIqze"
   },
   "outputs": [],
   "source": [
    "def model(x, w):\n",
    "    return np.dot(x, w)"
   ]
  },
  {
   "cell_type": "markdown",
   "metadata": {
    "id": "oXtG0RrNIqze"
   },
   "source": [
    "Let's try it out."
   ]
  },
  {
   "cell_type": "code",
   "execution_count": 16,
   "metadata": {
    "colab": {
     "base_uri": "https://localhost:8080/"
    },
    "id": "Aeqn8-F5Iqzf",
    "outputId": "9dcb3698-9d37-4c4f-ccdf-63c1c977058b"
   },
   "outputs": [
    {
     "data": {
      "text/plain": [
       "0.07929578372862056"
      ]
     },
     "execution_count": 16,
     "metadata": {},
     "output_type": "execute_result"
    }
   ],
   "source": [
    "w = np.array([-0.5, -0.2])\n",
    "\n",
    "model(X0[0], w)"
   ]
  },
  {
   "cell_type": "markdown",
   "metadata": {
    "id": "pdYFWBTmIqzf"
   },
   "source": [
    "We can plot the decision boundary, or the boundary in data space where the model flips from a negative to a positive prediction"
   ]
  },
  {
   "cell_type": "code",
   "execution_count": 17,
   "metadata": {
    "colab": {
     "base_uri": "https://localhost:8080/",
     "height": 265
    },
    "id": "Hj1WsTMzIqzf",
    "outputId": "a12ea17a-2e72-4d4d-dc1d-ea57557634b4"
   },
   "outputs": [
    {
     "data": {
      "image/png": "[encoded data removed]",
      "text/plain": [
       "<Figure size 432x288 with 1 Axes>"
      ]
     },
     "metadata": {
      "needs_background": "light"
     },
     "output_type": "display_data"
    }
   ],
   "source": [
    "plt.scatter(X0[:,0], X0[:,1])\n",
    "plt.scatter(X1[:,0], X1[:,1])\n",
    "\n",
    "plt.arrow(0, 0, w[0], w[1], head_width=0.3, head_length=0.3, fc='r', ec='r')\n",
    "plt.plot([-3*w[1], 3*w[1]], [3*w[0], -3*w[0]], 'k-')\n",
    "plt.show()"
   ]
  },
  {
   "cell_type": "markdown",
   "metadata": {
    "id": "KB9PYPxxIqzg"
   },
   "source": [
    "### Cost function\n",
    "\n",
    "How good is the model on a single input-output training pair?"
   ]
  },
  {
   "cell_type": "code",
   "execution_count": 18,
   "metadata": {
    "id": "pKLdoDYcIqzh"
   },
   "outputs": [],
   "source": [
    "def loss(a, b):\n",
    "    return (a - b)**2"
   ]
  },
  {
   "cell_type": "code",
   "execution_count": 25,
   "metadata": {},
   "outputs": [
    {
     "data": {
      "text/plain": [
       "0"
      ]
     },
     "execution_count": 25,
     "metadata": {},
     "output_type": "execute_result"
    }
   ],
   "source": [
    "# Showing how loss works\n",
    "loss(-1, -1)"
   ]
  },
  {
   "cell_type": "markdown",
   "metadata": {
    "id": "kFmNPQNZIqzh"
   },
   "source": [
    "What is the average loss on a data set of multiple pairs?"
   ]
  },
  {
   "cell_type": "code",
   "execution_count": 19,
   "metadata": {
    "id": "CUmhMBauIqzh"
   },
   "outputs": [],
   "source": [
    "def average_loss(w, data):\n",
    "    c = 0\n",
    "    for x, y in data:\n",
    "        prediction = model(x, w)\n",
    "        c += loss(prediction, y)\n",
    "    return c/len(data)"
   ]
  },
  {
   "cell_type": "code",
   "execution_count": 20,
   "metadata": {
    "colab": {
     "base_uri": "https://localhost:8080/"
    },
    "id": "YmX4e_CyIqzj",
    "outputId": "b38984c7-6199-4e4d-c114-6ab8a2ba608c"
   },
   "outputs": [
    {
     "data": {
      "text/plain": [
       "1.8504767821580002"
      ]
     },
     "execution_count": 20,
     "metadata": {},
     "output_type": "execute_result"
    }
   ],
   "source": [
    "w = np.array([1.3, -0.4])\n",
    "average_loss(w, data)"
   ]
  },
  {
   "cell_type": "markdown",
   "metadata": {
    "id": "WbmS0U3nIqzj"
   },
   "source": [
    "## 2. Automatic computation of  gradients\n",
    "\n",
    "Because we imported PennyLane's numpy version, we can now compute gradients of the average loss with respect to the weights!"
   ]
  },
  {
   "cell_type": "code",
   "execution_count": 37,
   "metadata": {
    "colab": {
     "base_uri": "https://localhost:8080/"
    },
    "id": "6Z3LKFGYIqzk",
    "outputId": "85f4233e-269a-458c-caaf-9bded3cb58cd"
   },
   "outputs": [
    {
     "ename": "TypeError",
     "evalue": "__init__() got an unexpected keyword argument 'num_args'",
     "output_type": "error",
     "traceback": [
      "\u001b[0;31m---------------------------------------------------------------------------\u001b[0m",
      "\u001b[0;31mTypeError\u001b[0m                                 Traceback (most recent call last)",
      "\u001b[0;32m<ipython-input-37-a7ed55df8711>\u001b[0m in \u001b[0;36m<module>\u001b[0;34m\u001b[0m\n\u001b[1;32m      1\u001b[0m \u001b[0mb\u001b[0m \u001b[0;34m=\u001b[0m \u001b[0mnp\u001b[0m\u001b[0;34m.\u001b[0m\u001b[0mones\u001b[0m\u001b[0;34m(\u001b[0m\u001b[0;36m2\u001b[0m\u001b[0;34m)\u001b[0m\u001b[0;34m\u001b[0m\u001b[0;34m\u001b[0m\u001b[0m\n\u001b[0;32m----> 2\u001b[0;31m \u001b[0mgradient_fn\u001b[0m \u001b[0;34m=\u001b[0m \u001b[0mqml\u001b[0m\u001b[0;34m.\u001b[0m\u001b[0mgrad\u001b[0m\u001b[0;34m(\u001b[0m\u001b[0maverage_loss\u001b[0m\u001b[0;34m,\u001b[0m \u001b[0mnum_args\u001b[0m\u001b[0;34m=\u001b[0m\u001b[0mb\u001b[0m\u001b[0;34m)\u001b[0m\u001b[0;34m\u001b[0m\u001b[0;34m\u001b[0m\u001b[0m\n\u001b[0m\u001b[1;32m      3\u001b[0m \u001b[0mgradient_fn\u001b[0m\u001b[0;34m(\u001b[0m\u001b[0mw\u001b[0m\u001b[0;34m,\u001b[0m \u001b[0mdata\u001b[0m\u001b[0;34m)\u001b[0m\u001b[0;34m\u001b[0m\u001b[0;34m\u001b[0m\u001b[0m\n",
      "\u001b[0;31mTypeError\u001b[0m: __init__() got an unexpected keyword argument 'num_args'"
     ]
    }
   ],
   "source": [
    "b = np.ones(2)\n",
    "gradient_fn = qml.grad(average_loss, num_args=b) #?\n",
    "gradient_fn(w, data)"
   ]
  },
  {
   "cell_type": "code",
   "execution_count": 35,
   "metadata": {},
   "outputs": [
    {
     "data": {
      "text/plain": [
       "tensor([ 0.60944752, -0.10190306], requires_grad=True)"
      ]
     },
     "execution_count": 35,
     "metadata": {},
     "output_type": "execute_result"
    }
   ],
   "source": []
  },
  {
   "cell_type": "markdown",
   "metadata": {
    "id": "lspDW_OfIqzk"
   },
   "source": [
    "We can use gradients to guess better candidates for parameters."
   ]
  },
  {
   "cell_type": "code",
   "execution_count": 27,
   "metadata": {
    "id": "anRw4PftIqzt"
   },
   "outputs": [],
   "source": [
    "w_new = w - 0.05*gradient_fn(w, data)"
   ]
  },
  {
   "cell_type": "code",
   "execution_count": 28,
   "metadata": {
    "colab": {
     "base_uri": "https://localhost:8080/"
    },
    "id": "hpThoHzdIqzu",
    "outputId": "aacdc25b-23b0-44c9-cbcb-cbf8a7c833ff"
   },
   "outputs": [
    {
     "data": {
      "text/plain": [
       "1.2102626825705949"
      ]
     },
     "execution_count": 28,
     "metadata": {},
     "output_type": "execute_result"
    }
   ],
   "source": [
    "average_loss(w_new, data)"
   ]
  },
  {
   "cell_type": "markdown",
   "metadata": {
    "id": "EaBlvl9UdxEg"
   },
   "source": [
    "This works because the gradient always points towards the steepest ascent in the cost landscape."
   ]
  },
  {
   "cell_type": "code",
   "execution_count": 29,
   "metadata": {
    "colab": {
     "base_uri": "https://localhost:8080/",
     "height": 285
    },
    "id": "FyjCbeNUdHYS",
    "outputId": "46c688c6-c17e-433e-9c8a-934fa1f63e51"
   },
   "outputs": [
    {
     "data": {
      "image/png": "[encoded data removed]",
      "text/plain": [
       "<Figure size 432x288 with 1 Axes>"
      ]
     },
     "metadata": {
      "needs_background": "light"
     },
     "output_type": "display_data"
    }
   ],
   "source": [
    "# compute the gradient at some point in parameter space\n",
    "some_w = np.array([-0.6, 0.5])\n",
    "g = 0.01*gradient_fn(some_w, data)\n",
    "\n",
    "# make a contourplot of the cost\n",
    "w1s = np.linspace(-2, 2)\n",
    "w2s = np.linspace(-2, 2)\n",
    "cost_grid = []\n",
    "for w1 in w1s:\n",
    "    for w2 in w2s:\n",
    "        w = np.array([w1, w2])\n",
    "        cost_grid.append(average_loss(w, data))\n",
    "cost_grid = np.array(cost_grid).reshape((50, 50))\n",
    "plt.contourf(w1s, w2s, cost_grid.T)\n",
    "\n",
    "plt.arrow(some_w[0], some_w[1], some_w[0] + g[0], some_w[1] + g[1], \n",
    "          head_width=0.3, head_length=0.3, fc='r', ec='r')\n",
    "plt.xlabel(r\"$w_1$\")\n",
    "plt.ylabel(r\"$w_2$\")\n",
    "plt.show()"
   ]
  },
  {
   "cell_type": "markdown",
   "metadata": {
    "id": "A6DHQzw1Iqzv"
   },
   "source": [
    "## 3. Training with gradient descent\n",
    "\n",
    "Putting it all together, we can train the linear model."
   ]
  },
  {
   "cell_type": "code",
   "execution_count": 30,
   "metadata": {
    "colab": {
     "base_uri": "https://localhost:8080/"
    },
    "id": "zfZZLaUeIqzv",
    "outputId": "61dc1e54-8382-433c-eb82-02e8afd87afb"
   },
   "outputs": [
    {
     "name": "stdout",
     "output_type": "stream",
     "text": [
      "1.3500100407100541\n",
      "1.1021852209348377\n",
      "0.9290184060813584\n",
      "0.8027576735134763\n",
      "0.7073372523673335\n",
      "0.6331673539752455\n",
      "0.5743007976098509\n",
      "0.5268826928791955\n",
      "0.488294380852497\n",
      "0.45667438524266574\n",
      "0.4306452071742513\n",
      "0.4091534224361\n",
      "0.3913728909446769\n",
      "0.3766437270037941\n",
      "0.3644320177904416\n"
     ]
    }
   ],
   "source": [
    "w_init = np.random.random(size=(2,))\n",
    "w = np.array(w_init)\n",
    "\n",
    "history = []\n",
    "for i in range(15):\n",
    "    w_new = w - 0.05*gradient_fn(w, data)\n",
    "    print(average_loss(w_new, data))\n",
    "    history.append(w_new)\n",
    "    w = w_new"
   ]
  },
  {
   "cell_type": "markdown",
   "metadata": {},
   "source": [
    "We can easily visualise the path that gradient descent took in parameter space."
   ]
  },
  {
   "cell_type": "code",
   "execution_count": 15,
   "metadata": {
    "colab": {
     "base_uri": "https://localhost:8080/",
     "height": 285
    },
    "id": "W52Va1_Xdv2m",
    "outputId": "82ddf448-b315-48f5-eeb7-f96ba8e2bfa9"
   },
   "outputs": [
    {
     "data": {
      "image/png": "[encoded data removed]",
      "text/plain": [
       "<Figure size 432x288 with 1 Axes>"
      ]
     },
     "metadata": {
      "needs_background": "light"
     },
     "output_type": "display_data"
    }
   ],
   "source": [
    "plt.contourf(w1s, w2s, cost_grid.T)\n",
    "history = np.array(history)\n",
    "plt.plot(history[:, 0], history[:, 1], \"-o\")\n",
    "plt.xlabel(r\"$w_1$\")\n",
    "plt.ylabel(r\"$w_2$\")\n",
    "plt.show()"
   ]
  },
  {
   "cell_type": "markdown",
   "metadata": {},
   "source": [
    "Training didn't fully converge yet, but the decision boundary is already better."
   ]
  },
  {
   "cell_type": "code",
   "execution_count": 31,
   "metadata": {
    "colab": {
     "base_uri": "https://localhost:8080/",
     "height": 265
    },
    "id": "GhWrlpcDIqzw",
    "outputId": "b7f319df-6f21-49c8-ad04-8f69a0fc6cd4"
   },
   "outputs": [
    {
     "data": {
      "image/png": "[encoded data removed]",
      "text/plain": [
       "<Figure size 432x288 with 1 Axes>"
      ]
     },
     "metadata": {
      "needs_background": "light"
     },
     "output_type": "display_data"
    }
   ],
   "source": [
    "plt.scatter(X0[:,0], X0[:,1])\n",
    "plt.scatter(X1[:,0], X1[:,1])\n",
    "\n",
    "plt.arrow(0, 0, w[0], w[1], head_width=0.3, head_length=0.3, fc='r', ec='r')\n",
    "plt.plot([-3*w[1], 3*w[1]], [3*w[0], -3*w[0]], 'k-')\n",
    "plt.show()"
   ]
  },
  {
   "cell_type": "markdown",
   "metadata": {
    "id": "lmaw2mGpIqzw"
   },
   "source": [
    "# TASKS \n",
    "\n",
    "\n",
    "\n",
    "1. Add a constant scalar bias term $b \\in \\mathbb{R}$ to the model,\n",
    "\n",
    "    $$ f(x, w) = \\langle w, x \\rangle + b, $$\n",
    "\n",
    "   and train both $w$ and $b$ at the same time.\n",
    "   \n",
    "\n",
    "2. Change the model to a neural network with a single hidden layer.\n",
    "\n",
    "    $$ f(x, w, W) = \\langle w, \\varphi(Wx) \\rangle,$$\n",
    "\n",
    "   where $W$ is a weight matrix of suitable dimension and $\\varphi$ a hand-coded nonlinar activation function. \n",
    "   \n",
    "   Tipp: You can use the vector-valued sigmoid function \n",
    "   \n",
    "   ```\n",
    "   def sigmoid(z):\n",
    "        return 1/(1 + np.exp(-x))\n",
    "   ```\n",
    "   \n",
    "\n",
    "3. Code up the above example using PyTorch."
   ]
  },
  {
   "cell_type": "code",
   "execution_count": null,
   "metadata": {
    "id": "26eR11IIIqzx"
   },
   "outputs": [],
   "source": []
  }
 ],
 "metadata": {
  "colab": {
   "collapsed_sections": [],
   "name": "1-classical-ml-with-automatic-differentiation.ipynb",
   "provenance": []
  },
  "kernelspec": {
   "display_name": "Python 3",
   "language": "python",
   "name": "python3"
  },
  "language_info": {
   "codemirror_mode": {
    "name": "ipython",
    "version": 3
   },
   "file_extension": ".py",
   "mimetype": "text/x-python",
   "name": "python",
   "nbconvert_exporter": "python",
   "pygments_lexer": "ipython3",
   "version": "3.8.3"
  }
 },
 "nbformat": 4,
 "nbformat_minor": 1
}
