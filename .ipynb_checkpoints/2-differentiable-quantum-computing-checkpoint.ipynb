{
 "cells": [
  {
   "cell_type": "code",
   "execution_count": 1,
   "metadata": {
    "colab": {
     "base_uri": "https://localhost:8080/"
    },
    "id": "nTR6KaDYI86X",
    "outputId": "e1831fd1-1d37-4536-d28c-fe77dbd23945"
   },
   "outputs": [],
   "source": [
    "%%capture\n",
    "\n",
    "# Comment this out if you don't want to install pennylane from this notebook\n",
    "!pip install pennylane\n",
    "\n",
    "# Comment this out if you don't want to install matplotlib from this notebook\n",
    "!pip install matplotlib"
   ]
  },
  {
   "cell_type": "markdown",
   "metadata": {
    "id": "ViJy_slwI86e"
   },
   "source": [
    "# Differentiable quantum computing with PennyLane\n",
    "\n",
    "In this tutorial we will:\n",
    "\n",
    "* learn step-by-step how quantum computations are implemented in PennyLane,\n",
    "* understand parameter-dependent quantum computations (\"variational circuits\"), \n",
    "* build our first quantum machine learning model, and\n",
    "* compute its gradient.\n",
    "\n",
    "We need the following imports:"
   ]
  },
  {
   "cell_type": "code",
   "execution_count": 2,
   "metadata": {
    "id": "gym_3cbziWfK"
   },
   "outputs": [],
   "source": [
    "import pennylane as qml\n",
    "from pennylane import numpy as np"
   ]
  },
  {
   "cell_type": "markdown",
   "metadata": {
    "id": "j0takToZI86f"
   },
   "source": [
    "## 1. Quantum nodes"
   ]
  },
  {
   "cell_type": "markdown",
   "metadata": {
    "id": "3u-3eEPchh3N"
   },
   "source": [
    "In PennyLane, a *quantum node* is a computational unit that involves the construction, evaluation, pre- and postprocessing of quantum computations.\n",
    "\n",
    "A quantum node consists of a *quantum function* that defines a circuit, as well as a *device* on which it is run. \n",
    "\n",
    "There is a growing [device ecosystem](https://pennylane.ai/plugins.html) which allows you to change only one line of code to dispatch your quantum computation to local simulators, remote simulators and remote hardware from different vendors.\n",
    "\n",
    "Here we will use the built-in `default.qubit` device."
   ]
  },
  {
   "cell_type": "code",
   "execution_count": 3,
   "metadata": {
    "id": "WfIzfl6hI86f"
   },
   "outputs": [],
   "source": [
    "dev = qml.device('default.qubit', wires=2)"
   ]
  },
  {
   "cell_type": "markdown",
   "metadata": {},
   "source": [
    "To combine the device with a quantum function to a quantum node we can use the `qml.qnode` decorator. The function can then be evaluated as if it was any other python function. Internally, it will construct a circuit and run it on the device."
   ]
  },
  {
   "cell_type": "code",
   "execution_count": 4,
   "metadata": {},
   "outputs": [
    {
     "data": {
      "text/plain": [
       "tensor([0.5, 0. , 0.5, 0. ], requires_grad=True)"
      ]
     },
     "execution_count": 4,
     "metadata": {},
     "output_type": "execute_result"
    }
   ],
   "source": [
    "@qml.qnode(dev)\n",
    "def circuit():\n",
    "    qml.Hadamard(wires=0)\n",
    "    return qml.probs(wires=[0, 1])\n",
    "\n",
    "circuit()"
   ]
  },
  {
   "cell_type": "markdown",
   "metadata": {},
   "source": [
    "## 2. Building quantum circuits"
   ]
  },
  {
   "cell_type": "markdown",
   "metadata": {
    "id": "B7QxsiAdI86g"
   },
   "source": [
    "### The initial state\n",
    "\n",
    "<br />\n",
    "<img src=\"figures/1.png\" width=\"500\" height=\"100\">\n",
    "<br />\n",
    "\n",
    "The initial state has 100% probability to be measured in the \"0..0\" configuration. Let's see how we can verify this with PennyLane."
   ]
  },
  {
   "cell_type": "code",
   "execution_count": 5,
   "metadata": {
    "colab": {
     "base_uri": "https://localhost:8080/"
    },
    "id": "0uWBZqMsI86g",
    "outputId": "21f1e0c5-8dbe-4f81-f492-cf9a27a8958d"
   },
   "outputs": [
    {
     "data": {
      "text/plain": [
       "tensor([1., 0., 0., 0.], requires_grad=True)"
      ]
     },
     "execution_count": 5,
     "metadata": {},
     "output_type": "execute_result"
    }
   ],
   "source": [
    "@qml.qnode(dev)\n",
    "def circuit():\n",
    "    return qml.probs(wires=[0, 1])\n",
    "\n",
    "circuit()"
   ]
  },
  {
   "cell_type": "markdown",
   "metadata": {
    "id": "4vYHmef8I86h"
   },
   "source": [
    "The internal state vector that we use to mathematically keep track of probabilities is complex-valued. Since `default.qubit` is a simulator we can have a look at the state, for example by checking the device's `state` attribute."
   ]
  },
  {
   "cell_type": "code",
   "execution_count": 6,
   "metadata": {
    "colab": {
     "base_uri": "https://localhost:8080/"
    },
    "id": "a3sx1keQI86h",
    "outputId": "0928e9a4-2676-4ef3-ff08-d598171b993e"
   },
   "outputs": [
    {
     "data": {
      "text/plain": [
       "tensor([1.+0.j, 0.+0.j, 0.+0.j, 0.+0.j], requires_grad=True)"
      ]
     },
     "execution_count": 6,
     "metadata": {},
     "output_type": "execute_result"
    }
   ],
   "source": [
    "dev.state"
   ]
  },
  {
   "cell_type": "markdown",
   "metadata": {
    "id": "8T72-1F-I86i"
   },
   "source": [
    "### Unitary evolutions\n",
    "\n",
    "<br />\n",
    "<img src=\"figures/2.png\" width=\"500\">\n",
    "<br />\n",
    "\n",
    "Quantum circuits are represented by unitary matrices. We can evolve the initial state by an arbitrary unitrary matrix as follows:"
   ]
  },
  {
   "cell_type": "code",
   "execution_count": 7,
   "metadata": {
    "colab": {
     "base_uri": "https://localhost:8080/"
    },
    "id": "pR2xQvESI86i",
    "outputId": "3e307811-99e4-4632-8069-5baf84ca392a"
   },
   "outputs": [
    {
     "data": {
      "text/plain": [
       "tensor([0. , 0.5, 0.5, 0. ], requires_grad=True)"
      ]
     },
     "execution_count": 7,
     "metadata": {},
     "output_type": "execute_result"
    }
   ],
   "source": [
    "s = 1/np.sqrt(2)\n",
    "U = np.array([[0., -s, 0.,  s],\n",
    "              [ s, 0., -s, 0.],\n",
    "              [ s, 0.,  s, 0.],\n",
    "              [0., -s, 0., -s]])\n",
    "\n",
    "@qml.qnode(dev)\n",
    "def circuit():\n",
    "    qml.QubitUnitary(U, wires=[0, 1])\n",
    "    return qml.probs(wires=[0, 1])\n",
    "\n",
    "circuit()"
   ]
  },
  {
   "cell_type": "markdown",
   "metadata": {
    "id": "y1Lz95Lvi4nh"
   },
   "source": [
    "The internal quantum state changed."
   ]
  },
  {
   "cell_type": "code",
   "execution_count": 8,
   "metadata": {
    "colab": {
     "base_uri": "https://localhost:8080/"
    },
    "id": "WGRCAysbI86i",
    "outputId": "63c1826b-56e3-4b20-c484-73ec0c20b436"
   },
   "outputs": [
    {
     "data": {
      "text/plain": [
       "tensor([0.        +0.j, 0.70710678+0.j, 0.70710678+0.j, 0.        +0.j], requires_grad=True)"
      ]
     },
     "execution_count": 8,
     "metadata": {},
     "output_type": "execute_result"
    }
   ],
   "source": [
    "dev.state"
   ]
  },
  {
   "cell_type": "markdown",
   "metadata": {
    "id": "j5D8HN8nI86j"
   },
   "source": [
    "### Measurements sample outcomes from the distribution\n",
    "\n",
    "<br />\n",
    "<img src=\"figures/3.png\" width=\"500\">\n",
    "<br />\n",
    "\n",
    "The most common measurement takes samples $-1, 1$ from the \"Pauli-Z\" observable. The samples indicate if the qubit was measured in state $| 0 \\rangle$ or $| 1 \\rangle$."
   ]
  },
  {
   "cell_type": "code",
   "execution_count": 9,
   "metadata": {
    "colab": {
     "base_uri": "https://localhost:8080/"
    },
    "id": "BFFaTmh6I86j",
    "outputId": "fdcfafe5-9daa-46bf-ceb7-21359cefca3c"
   },
   "outputs": [
    {
     "data": {
      "text/plain": [
       "tensor([[ 1, -1, -1, ..., -1, -1,  1],\n",
       "        [-1,  1,  1, ...,  1,  1, -1]], requires_grad=True)"
      ]
     },
     "execution_count": 9,
     "metadata": {},
     "output_type": "execute_result"
    }
   ],
   "source": [
    "@qml.qnode(dev)\n",
    "def circuit():\n",
    "    qml.QubitUnitary(U, wires=[0, 1])\n",
    "    return qml.sample(qml.PauliZ(wires=0)), qml.sample(qml.PauliZ(wires=1))\n",
    "\n",
    "circuit()"
   ]
  },
  {
   "cell_type": "markdown",
   "metadata": {
    "id": "SKNa1k2eixFC"
   },
   "source": [
    "The quantum state should be still the same as above."
   ]
  },
  {
   "cell_type": "code",
   "execution_count": 10,
   "metadata": {
    "colab": {
     "base_uri": "https://localhost:8080/"
    },
    "id": "kOpi8-62I86j",
    "outputId": "24a060bf-7fec-474c-f499-77a2baa5ba61"
   },
   "outputs": [
    {
     "data": {
      "text/plain": [
       "tensor([0.        +0.j, 0.70710678+0.j, 0.70710678+0.j, 0.        +0.j], requires_grad=True)"
      ]
     },
     "execution_count": 10,
     "metadata": {},
     "output_type": "execute_result"
    }
   ],
   "source": [
    "dev.state"
   ]
  },
  {
   "cell_type": "markdown",
   "metadata": {
    "id": "BPSoH3ddI86k"
   },
   "source": [
    "### Computing expectation values \n",
    "\n",
    "<br />\n",
    "<img src=\"figures/4.png\" width=\"500\">\n",
    "<br />\n",
    "\n",
    "When we want outputs of computations to be deterministic, we often interpret the expected measurement outcome as the result. This value is estimated by taking lots of samples and averaging over them."
   ]
  },
  {
   "cell_type": "code",
   "execution_count": 9,
   "metadata": {
    "colab": {
     "base_uri": "https://localhost:8080/"
    },
    "id": "BTKPBpR3I86k",
    "outputId": "b1cd59c1-42b0-406c-87d7-73787a88e7bc"
   },
   "outputs": [
    {
     "data": {
      "text/plain": [
       "tensor([0., 0.], requires_grad=True)"
      ]
     },
     "execution_count": 9,
     "metadata": {},
     "output_type": "execute_result"
    }
   ],
   "source": [
    "@qml.qnode(dev)\n",
    "def circuit():\n",
    "    qml.QubitUnitary(U, wires=[0, 1])\n",
    "    return qml.expval(qml.PauliZ(wires=0)), qml.expval(qml.PauliZ(wires=1))\n",
    "\n",
    "circuit()"
   ]
  },
  {
   "cell_type": "markdown",
   "metadata": {
    "id": "TWenlG1AjJhu"
   },
   "source": [
    "Again, the quantum state should be the same as above."
   ]
  },
  {
   "cell_type": "code",
   "execution_count": 10,
   "metadata": {
    "colab": {
     "base_uri": "https://localhost:8080/"
    },
    "id": "aSJl64R-I86k",
    "outputId": "444f812a-5c66-446e-dd23-bfd8c1e60569"
   },
   "outputs": [
    {
     "data": {
      "text/plain": [
       "tensor([0.        +0.j, 0.70710678+0.j, 0.70710678+0.j, 0.        +0.j], requires_grad=True)"
      ]
     },
     "execution_count": 10,
     "metadata": {},
     "output_type": "execute_result"
    }
   ],
   "source": [
    "dev.state"
   ]
  },
  {
   "cell_type": "markdown",
   "metadata": {
    "id": "KNiKBEjrI86l"
   },
   "source": [
    "### Quantum circuits are decomposed into gates\n",
    "\n",
    "<br />\n",
    "<img src=\"figures/5.png\" width=\"500\">\n",
    "<br />\n",
    "\n",
    "Quantum circuits rarely consist of one large unitary (which quickly becomes intractably large as the number of qubits grow). Instead, they are composed of *quantum gates*."
   ]
  },
  {
   "cell_type": "code",
   "execution_count": 11,
   "metadata": {
    "colab": {
     "base_uri": "https://localhost:8080/"
    },
    "id": "Eoie7lnlI86l",
    "outputId": "755770ab-9bd4-4fd9-a187-9319929953dd"
   },
   "outputs": [
    {
     "data": {
      "text/plain": [
       "tensor([ 0., -1.], requires_grad=True)"
      ]
     },
     "execution_count": 11,
     "metadata": {},
     "output_type": "execute_result"
    }
   ],
   "source": [
    "@qml.qnode(dev)\n",
    "def circuit():\n",
    "    qml.PauliX(wires=0)\n",
    "    qml.CNOT(wires=[0,1])\n",
    "    qml.Hadamard(wires=0)\n",
    "    qml.PauliZ(wires=1)\n",
    "    return qml.expval(qml.PauliZ(wires=0)), qml.expval(qml.PauliZ(wires=1))\n",
    "\n",
    "circuit()"
   ]
  },
  {
   "cell_type": "markdown",
   "metadata": {
    "id": "IxU2qPYcI86l"
   },
   "source": [
    "### Some gates depend on \"control\" parameters\n",
    "\n",
    "<br />\n",
    "<img src=\"figures/6.png\" width=\"500\">\n",
    "<br />\n",
    "\n",
    "To train circuits, there is a special subset of gates which is of particular interest: the Pauli rotation gates. These \"rotate\" a special representation of the quantum state around a specific axis. The gates depend on a scalar parameter which is the angle of the rotation. "
   ]
  },
  {
   "cell_type": "code",
   "execution_count": 12,
   "metadata": {
    "id": "YwKk_sWmI86m"
   },
   "outputs": [
    {
     "data": {
      "text/plain": [
       "tensor([0.98006658, 0.26216666], requires_grad=True)"
      ]
     },
     "execution_count": 12,
     "metadata": {},
     "output_type": "execute_result"
    }
   ],
   "source": [
    "@qml.qnode(dev)\n",
    "def circuit(w1, w2):\n",
    "    qml.RX(w1, wires=0)\n",
    "    qml.CNOT(wires=[0,1])\n",
    "    qml.RY(w2, wires=1)\n",
    "    return qml.expval(qml.PauliZ(wires=0)), qml.expval(qml.PauliZ(wires=1))\n",
    "\n",
    "circuit(0.2, 1.3)"
   ]
  },
  {
   "cell_type": "markdown",
   "metadata": {
    "id": "Oi_0wM9rI86m"
   },
   "source": [
    "The names `w1`, `w2` are already suggestive that these can be used like the trainable parameters of a classical machine learning model. But we could also call the control parameters `x1`, `x2` and encode data features into quantum states. "
   ]
  },
  {
   "cell_type": "markdown",
   "metadata": {
    "id": "1fKFXs7OI86m"
   },
   "source": [
    "## 3. A full quantum machine learning model and its gradient"
   ]
  },
  {
   "cell_type": "markdown",
   "metadata": {
    "id": "QBEgX2RNI86n"
   },
   "source": [
    "Finally, we can use pre-coded routines or [templates](https://pennylane.readthedocs.io/en/stable/introduction/templates.html) to conveniently build full quantum machine learning model that include a data encoding part, and a trainable part.\n",
    "\n",
    "<br />\n",
    "<img src=\"figures/7.png\" width=\"500\">\n",
    "<br />\n",
    "\n",
    "Here, we will use the `AngleEmbedding` template to load the data, and the `BasicEntanglingLayers` as the trainable part of the circuit."
   ]
  },
  {
   "cell_type": "code",
   "execution_count": 33,
   "metadata": {
    "colab": {
     "base_uri": "https://localhost:8080/"
    },
    "id": "qH4f8vYFI86n",
    "outputId": "f3a093cd-eaf1-41fd-ad56-6308ad16d1ad"
   },
   "outputs": [
    {
     "data": {
      "text/plain": [
       "tensor(0.012023, requires_grad=True)"
      ]
     },
     "execution_count": 33,
     "metadata": {},
     "output_type": "execute_result"
    }
   ],
   "source": [
    "@qml.qnode(dev)\n",
    "def quantum_model(x, w):\n",
    "    qml.templates.AngleEmbedding(x, wires=[0, 1])\n",
    "    qml.templates.BasicEntanglerLayers(w, wires=[0, 1])\n",
    "    return qml.expval(qml.PauliZ(wires=0))\n",
    "\n",
    "\n",
    "x = np.array([0.1, 0.2], requires_grad=False)\n",
    "w = np.array([[-2.1, 1.2], [-1.4, -3.9], [0.5, 0.2]])\n",
    "\n",
    "quantum_model(x, w)"
   ]
  },
  {
   "cell_type": "markdown",
   "metadata": {
    "id": "I-TOEGNdsUNx"
   },
   "source": [
    "We can draw the circuit."
   ]
  },
  {
   "cell_type": "code",
   "execution_count": 34,
   "metadata": {
    "colab": {
     "base_uri": "https://localhost:8080/"
    },
    "id": "Ke03t-8ysP3V",
    "outputId": "ca963433-8af0-48ac-c281-85bdd1463ee2"
   },
   "outputs": [
    {
     "name": "stdout",
     "output_type": "stream",
     "text": [
      " 0: ──RX(0.1)──RX(-2.1)──╭C──RX(-1.4)──╭C──RX(0.5)──╭C──┤ ⟨Z⟩ \n",
      " 1: ──RX(0.2)──RX(1.2)───╰X──RX(-3.9)──╰X──RX(0.2)──╰X──┤     \n",
      "\n"
     ]
    }
   ],
   "source": [
    "print(quantum_model.draw())"
   ]
  },
  {
   "cell_type": "markdown",
   "metadata": {
    "id": "BSyTK18DI86n"
   },
   "source": [
    "The best thing is that by using PennyLane, we can easily compute its gradient!"
   ]
  },
  {
   "cell_type": "code",
   "execution_count": 35,
   "metadata": {
    "id": "TH2NCZFkI86n"
   },
   "outputs": [
    {
     "data": {
      "text/plain": [
       "(array([[ 1.69541373e-01, -2.77555756e-17],\n",
       "        [ 6.97079563e-02, -5.37764278e-17],\n",
       "        [ 1.69541373e-01, -1.97324795e-17]]),)"
      ]
     },
     "execution_count": 35,
     "metadata": {},
     "output_type": "execute_result"
    }
   ],
   "source": [
    "gradient_fn = qml.grad(quantum_model)\n",
    "\n",
    "gradient_fn(x, w)"
   ]
  },
  {
   "cell_type": "markdown",
   "metadata": {
    "id": "aG3rOjcOI86o"
   },
   "source": [
    "This allows us to slot the quantum circuit into the machine learning example from the previous notebook."
   ]
  },
  {
   "cell_type": "markdown",
   "metadata": {
    "id": "EzByfrW4I86o"
   },
   "source": [
    "#  TASKS \n",
    "\n",
    "1. Copy and paste the code from the previous notebook to here and replace the classical model by \n",
    "   the `quantum_model` function. This will allow you to train the model!\n",
    "\n",
    "2. Add a bias term to the quantum model.\n",
    "\n",
    "3. Replace the hand-coded optimisation step by a native [PennyLane optimiser](https://pennylane.readthedocs.io/en/stable/introduction/optimizers.html).\n",
    "\n",
    "4. Rewrite the entire example in PyTorch. \n",
    "\n",
    "   Tipp: You must set the qnode to the correct interface via `@qml.qnode(dev, interface='tf')`."
   ]
  },
  {
   "cell_type": "code",
   "execution_count": 18,
   "metadata": {
    "id": "3tXR6ygNI86o"
   },
   "outputs": [
    {
     "data": {
      "image/png": "[encoded data removed]",
      "text/plain": [
       "<Figure size 432x288 with 1 Axes>"
      ]
     },
     "metadata": {
      "needs_background": "light"
     },
     "output_type": "display_data"
    }
   ],
   "source": [
    "import matplotlib.pyplot as plt\n",
    "%matplotlib inline\n",
    "\n",
    "# Create sample data\n",
    "np.random.seed(42)\n",
    "\n",
    "# Wield samples\n",
    "n_samples = 100\n",
    "X0 = np.array([[np.random.normal(loc=-1, scale=1), \n",
    "                np.random.normal(loc=1, scale=1)] for i in range(n_samples//2)]) \n",
    "X1 = np.array([[np.random.normal(loc=1, scale=1), \n",
    "                np.random.normal(loc=-1, scale=1)] for i in range(n_samples//2)]) \n",
    "X = np.concatenate([X0, X1], axis=0)\n",
    "Y = np.concatenate([-np.ones(50), np.ones(50)], axis=0)\n",
    "data = list(zip(X, Y))\n",
    "\n",
    "\n",
    "plt.scatter(X0[:,0], X0[:,1])\n",
    "plt.scatter(X1[:,0], X1[:,1])\n",
    "plt.show()"
   ]
  },
  {
   "cell_type": "code",
   "execution_count": 40,
   "metadata": {},
   "outputs": [
    {
     "data": {
      "text/plain": [
       "array([[-2.44954845e-02, -4.32283265e-18],\n",
       "       [-9.61381307e-01, -1.84471070e-17],\n",
       "       [-2.44954845e-02, -6.84889665e-18]])"
      ]
     },
     "execution_count": 40,
     "metadata": {},
     "output_type": "execute_result"
    }
   ],
   "source": [
    "def loss(a, b):\n",
    "    return (a - b)**2\n",
    "\n",
    "def average_loss(w, data):\n",
    "    c = 0\n",
    "    for x, y in data:\n",
    "        prediction = quantum_model(x, w)\n",
    "        c += loss(prediction, y)\n",
    "    return c/len(data)\n",
    "\n",
    "average_loss(w, data)\n",
    "\n",
    "gradient_fn = qml.grad(average_loss, argnum=0)\n",
    "gradient_fn(w, data)"
   ]
  },
  {
   "cell_type": "code",
   "execution_count": 41,
   "metadata": {},
   "outputs": [],
   "source": [
    "w_new = w - 0.05*gradient_fn(w, data)"
   ]
  },
  {
   "cell_type": "code",
   "execution_count": 42,
   "metadata": {},
   "outputs": [
    {
     "name": "stdout",
     "output_type": "stream",
     "text": [
      "0.7732291291267948\n",
      "0.7337813175048161\n",
      "0.6990816100576684\n",
      "0.6685361263825221\n",
      "0.6416101812282397\n",
      "0.6178305723422944\n",
      "0.5967834865955587\n",
      "0.5781099736430855\n",
      "0.56150030149145\n",
      "0.5466880258287268\n",
      "0.5334442625062783\n",
      "0.5215724225103587\n",
      "0.5109035218853948\n",
      "0.5012920903031262\n",
      "0.4926126519833418\n"
     ]
    }
   ],
   "source": [
    "history = []\n",
    "for i in range(15):\n",
    "    w_new = w - 0.05*gradient_fn(w, data)\n",
    "    print(average_loss(w_new, data))\n",
    "    history.append(w_new)\n",
    "    w = w_new"
   ]
  },
  {
   "cell_type": "code",
   "execution_count": null,
   "metadata": {},
   "outputs": [],
   "source": []
  }
 ],
 "metadata": {
  "colab": {
   "collapsed_sections": [],
   "name": "2-differentiable-quantum-computing.ipynb",
   "provenance": []
  },
  "kernelspec": {
   "display_name": "Python 3",
   "language": "python",
   "name": "python3"
  },
  "language_info": {
   "codemirror_mode": {
    "name": "ipython",
    "version": 3
   },
   "file_extension": ".py",
   "mimetype": "text/x-python",
   "name": "python",
   "nbconvert_exporter": "python",
   "pygments_lexer": "ipython3",
   "version": "3.8.3"
  }
 },
 "nbformat": 4,
 "nbformat_minor": 1
}
